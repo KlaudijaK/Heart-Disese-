{
 "cells": [
  {
   "cell_type": "code",
   "execution_count": 1,
   "id": "412b8608",
   "metadata": {},
   "outputs": [
    {
     "name": "stdout",
     "output_type": "stream",
     "text": [
      "   age  sex  cp  trestbps  chol  fbs  restecg  thalach  exang  oldpeak  slope  \\\n",
      "0   52    1   0       125   212    0        1      168      0      1.0      2   \n",
      "1   53    1   0       140   203    1        0      155      1      3.1      0   \n",
      "2   70    1   0       145   174    0        1      125      1      2.6      0   \n",
      "3   61    1   0       148   203    0        1      161      0      0.0      2   \n",
      "4   62    0   0       138   294    1        1      106      0      1.9      1   \n",
      "\n",
      "   ca  thal  target  \n",
      "0   2     3       0  \n",
      "1   0     3       0  \n",
      "2   0     3       0  \n",
      "3   1     3       0  \n",
      "4   3     2       0  \n"
     ]
    }
   ],
   "source": [
    "import pandas as pd\n",
    "df = pd.read_csv('heart.csv')\n",
    "print(df.head())"
   ]
  },
  {
   "cell_type": "markdown",
   "id": "5186b9f0",
   "metadata": {},
   "source": [
    "Column /\t    Description\tType /                      Values\n",
    "age-        Age of the patient\t                Numeric (years)\n",
    "sex-        Gender of the patient            \t1 = male, 0 = female\n",
    "cp-         Chest pain                          type\t1 = typical angina, 2 = atypical angina, 3 = non-anginal pain, 4 = asymptomatic\n",
    "trestbps-\tResting blood pressure\t            Numeric (mm Hg)\n",
    "chol-\t    Serum cholesterol\t                Numeric (mg/dl)\n",
    "fbs-\t    Fasting blood sugar > 120 mg/dl  \t1 = true, 0 = false\n",
    "restecg-\tResting electrocardiographic results\t0 = normal, 1 = ST-T wave abnormality, 2 = left ventricular hypertrophy\n",
    "thalach-\tMaximum heart rate achieved\t        Numeric\n",
    "exang-    \tExercise-induced angina         \t1 = yes, 0 = no\n",
    "oldpeak-\tST depression induced by exercise relative to rest\t/Numeric (continuous)\n",
    "slope-   \tSlope of the peak exercise ST segment   /1 = upsloping, 2 = flat, 3 = downsloping\n",
    "ca-\t        Number of major vessels colored by fluoroscopy /\t0–3 (integer)\n",
    "thal-\t    Thalassemia type\t                3 = normal, 6 = fixed defect, 7 = reversible defect\n",
    "target-   \tPresence of heart disease\t        1 = disease, 0 = no disease   "
   ]
  },
  {
   "cell_type": "code",
   "execution_count": 2,
   "id": "ff5c3ab4",
   "metadata": {},
   "outputs": [
    {
     "name": "stdout",
     "output_type": "stream",
     "text": [
      "age         0\n",
      "sex         0\n",
      "cp          0\n",
      "trestbps    0\n",
      "chol        0\n",
      "fbs         0\n",
      "restecg     0\n",
      "thalach     0\n",
      "exang       0\n",
      "oldpeak     0\n",
      "slope       0\n",
      "ca          0\n",
      "thal        0\n",
      "target      0\n",
      "dtype: int64\n"
     ]
    }
   ],
   "source": [
    "import pandas as pd\n",
    "import numpy as np\n",
    "\n",
    "nan_counts = df.isnull().sum()\n",
    "print(nan_counts)\n"
   ]
  },
  {
   "cell_type": "markdown",
   "id": "519c7de5",
   "metadata": {},
   "source": [
    "Initial Model Development"
   ]
  },
  {
   "cell_type": "code",
   "execution_count": 7,
   "id": "771eb67e",
   "metadata": {},
   "outputs": [
    {
     "name": "stdout",
     "output_type": "stream",
     "text": [
      "Accuracy: 0.9853658536585366\n"
     ]
    }
   ],
   "source": [
    "from sklearn.model_selection import train_test_split\n",
    "from sklearn.ensemble import RandomForestClassifier\n",
    "from sklearn.metrics import accuracy_score\n",
    "\n",
    "# Define features and target\n",
    "X = df.drop('target', axis=1)\n",
    "y = df['target']\n",
    "\n",
    "X_train, X_test, y_train, y_test = train_test_split(X, y, test_size=0.2, random_state=42)\n",
    "\n",
    "model = RandomForestClassifier()\n",
    "model.fit(X_train, y_train)\n",
    "\n",
    "# Predict and evaluate\n",
    "predictions = model.predict(X_test)\n",
    "print(\"Accuracy:\", accuracy_score(y_test, predictions))"
   ]
  },
  {
   "cell_type": "markdown",
   "id": "f38f0894",
   "metadata": {},
   "source": [
    " Model Fine-Tuning"
   ]
  },
  {
   "cell_type": "code",
   "execution_count": 8,
   "id": "2f21b654",
   "metadata": {},
   "outputs": [
    {
     "name": "stdout",
     "output_type": "stream",
     "text": [
      "Best parameters found: {'max_depth': None, 'min_samples_split': 2, 'n_estimators': 50}\n",
      "Best cross-validation accuracy: 0.9853658536585366\n"
     ]
    }
   ],
   "source": [
    "from sklearn.model_selection import GridSearchCV\n",
    "\n",
    "param_grid = {\n",
    "    'n_estimators': [50, 100, 150],\n",
    "    'max_depth': [None, 10, 20, 30],\n",
    "    'min_samples_split': [2, 5, 10]\n",
    "}\n",
    "\n",
    "grid_search = GridSearchCV(model, param_grid, cv=5, scoring='accuracy')\n",
    "grid_search.fit(X_train, y_train)\n",
    "\n",
    "print(\"Best parameters found:\", grid_search.best_params_)\n",
    "print(\"Best cross-validation accuracy:\", grid_search.best_score_)"
   ]
  },
  {
   "cell_type": "markdown",
   "id": "0aff272f",
   "metadata": {},
   "source": [
    "Calculating ( R^2 ) using Scikit-learn"
   ]
  },
  {
   "cell_type": "code",
   "execution_count": 9,
   "id": "e9dfa482",
   "metadata": {},
   "outputs": [
    {
     "name": "stdout",
     "output_type": "stream",
     "text": [
      "R^2 Score: 0.4096080106078557\n",
      "R^2 Score using model's method: 0.4096080106078557\n"
     ]
    }
   ],
   "source": [
    "from sklearn.model_selection import train_test_split\n",
    "from sklearn.linear_model import LinearRegression\n",
    "from sklearn.metrics import r2_score\n",
    "\n",
    "# Assuming X is your feature dataframe and y is your target variable\n",
    "X_train, X_test, y_train, y_test = train_test_split(X, y, test_size=0.2, random_state=42)\n",
    "\n",
    "# Fit a linear regression model\n",
    "model = LinearRegression()\n",
    "model.fit(X_train, y_train)\n",
    "\n",
    "# Predict on the test set\n",
    "y_pred = model.predict(X_test)\n",
    "\n",
    "# Calculate R2 score\n",
    "r2 = r2_score(y_test, y_pred)\n",
    "print(\"R^2 Score:\", r2)\n",
    "\n",
    "# Alternatively, using the model's score method:\n",
    "r2_alternative = model.score(X_test, y_test)\n",
    "print(\"R^2 Score using model's method:\", r2_alternative)"
   ]
  },
  {
   "cell_type": "code",
   "execution_count": 11,
   "id": "05f50cf5",
   "metadata": {},
   "outputs": [
    {
     "name": "stdout",
     "output_type": "stream",
     "text": [
      "Collecting xgboost\n",
      "  Downloading xgboost-3.0.4-py3-none-win_amd64.whl.metadata (2.1 kB)\n",
      "Requirement already satisfied: numpy in c:\\users\\user\\anaconda3\\lib\\site-packages (from xgboost) (1.26.4)\n",
      "Requirement already satisfied: scipy in c:\\users\\user\\anaconda3\\lib\\site-packages (from xgboost) (1.13.1)\n",
      "Downloading xgboost-3.0.4-py3-none-win_amd64.whl (56.8 MB)\n",
      "   ---------------------------------------- 0.0/56.8 MB ? eta -:--:--\n",
      "   -- ------------------------------------- 3.9/56.8 MB 26.0 MB/s eta 0:00:03\n",
      "   -------- ------------------------------- 11.8/56.8 MB 28.3 MB/s eta 0:00:02\n",
      "   ------------- -------------------------- 18.6/56.8 MB 30.1 MB/s eta 0:00:02\n",
      "   ------------------ --------------------- 25.7/56.8 MB 30.7 MB/s eta 0:00:02\n",
      "   ---------------------- ----------------- 32.5/56.8 MB 31.2 MB/s eta 0:00:01\n",
      "   --------------------------- ------------ 39.6/56.8 MB 31.1 MB/s eta 0:00:01\n",
      "   -------------------------------- ------- 46.4/56.8 MB 31.4 MB/s eta 0:00:01\n",
      "   ------------------------------------- -- 53.5/56.8 MB 31.5 MB/s eta 0:00:01\n",
      "   ---------------------------------------  56.6/56.8 MB 31.4 MB/s eta 0:00:01\n",
      "   ---------------------------------------  56.6/56.8 MB 31.4 MB/s eta 0:00:01\n",
      "   ---------------------------------------- 56.8/56.8 MB 26.6 MB/s eta 0:00:00\n",
      "Installing collected packages: xgboost\n",
      "Successfully installed xgboost-3.0.4\n",
      "Note: you may need to restart the kernel to use updated packages.\n",
      "Accuracy: 0.9853658536585366\n"
     ]
    }
   ],
   "source": [
    "%pip install xgboost\n",
    "\n",
    "import xgboost as xgb\n",
    "from sklearn.metrics import accuracy_score\n",
    "\n",
    "# Use existing X_train, X_test, y_train, y_test\n",
    "\n",
    "# Initialize the model\n",
    "model = xgb.XGBClassifier()\n",
    "\n",
    "# Train the model\n",
    "model.fit(X_train, y_train)\n",
    "\n",
    "# Predict and evaluate\n",
    "predictions = model.predict(X_test)\n",
    "print(\"Accuracy:\", accuracy_score(y_test, predictions))"
   ]
  },
  {
   "cell_type": "code",
   "execution_count": 12,
   "id": "997c428b",
   "metadata": {},
   "outputs": [
    {
     "name": "stdout",
     "output_type": "stream",
     "text": [
      "Accuracy: 0.9853658536585366\n"
     ]
    }
   ],
   "source": [
    "import xgboost as xgb\n",
    "from sklearn.model_selection import train_test_split, GridSearchCV\n",
    "from sklearn.metrics import accuracy_score\n",
    "\n",
    "# Splitting the data\n",
    "X_train, X_test, y_train, y_test = train_test_split(X, y, test_size=0.2, random_state=42)\n",
    "\n",
    "# Initialize the model\n",
    "model = xgb.XGBClassifier()\n",
    "\n",
    "# Train the model\n",
    "model.fit(X_train, y_train)\n",
    "\n",
    "# Predict and evaluate\n",
    "predictions = model.predict(X_test)\n",
    "print(\"Accuracy:\", accuracy_score(y_test, predictions))"
   ]
  },
  {
   "cell_type": "code",
   "execution_count": 13,
   "id": "dc1140d0",
   "metadata": {},
   "outputs": [
    {
     "name": "stdout",
     "output_type": "stream",
     "text": [
      "Cross-validated accuracy: 0.9804878048780488\n"
     ]
    }
   ],
   "source": [
    "from sklearn.model_selection import cross_val_score\n",
    "\n",
    "# Evaluate using cross-validation\n",
    "cv_scores = cross_val_score(model, X_train, y_train, cv=5, scoring='accuracy')\n",
    "print(\"Cross-validated accuracy:\", cv_scores.mean())"
   ]
  },
  {
   "cell_type": "markdown",
   "id": "f5ec5519",
   "metadata": {},
   "source": [
    "Feature Importance in Tree-based Models"
   ]
  },
  {
   "cell_type": "code",
   "execution_count": 14,
   "id": "94b71598",
   "metadata": {},
   "outputs": [
    {
     "name": "stdout",
     "output_type": "stream",
     "text": [
      "          importance\n",
      "ca          0.134592\n",
      "cp          0.130877\n",
      "thalach     0.127453\n",
      "thal        0.117010\n",
      "oldpeak     0.110621\n",
      "chol        0.082608\n",
      "age         0.077983\n",
      "trestbps    0.070774\n",
      "exang       0.051797\n",
      "slope       0.044339\n",
      "sex         0.026600\n",
      "restecg     0.016739\n",
      "fbs         0.008608\n"
     ]
    }
   ],
   "source": [
    "from sklearn.ensemble import RandomForestClassifier\n",
    "import pandas as pd\n",
    "\n",
    "model = RandomForestClassifier()\n",
    "model.fit(X_train, y_train)\n",
    "\n",
    "# Extracting feature importances\n",
    "feature_importances = pd.DataFrame(model.feature_importances_, index=X.columns, columns=['importance']).sort_values('importance', ascending=False)\n",
    "\n",
    "print(feature_importances)"
   ]
  },
  {
   "cell_type": "markdown",
   "id": "35ef64f5",
   "metadata": {},
   "source": [
    "Using Logistic Regression with Feature Coefficients"
   ]
  },
  {
   "cell_type": "code",
   "execution_count": 15,
   "id": "e9770e72",
   "metadata": {},
   "outputs": [
    {
     "name": "stdout",
     "output_type": "stream",
     "text": [
      "          coefficient  absolute_coefficient\n",
      "sex         -1.717145              1.717145\n",
      "thal        -1.071030              1.071030\n",
      "cp           0.846679              0.846679\n",
      "exang       -0.833437              0.833437\n",
      "ca          -0.814664              0.814664\n",
      "oldpeak     -0.679565              0.679565\n",
      "slope        0.536938              0.536938\n",
      "restecg      0.260720              0.260720\n",
      "fbs         -0.160987              0.160987\n",
      "thalach      0.028928              0.028928\n",
      "trestbps    -0.018156              0.018156\n",
      "chol        -0.008878              0.008878\n",
      "age          0.000678              0.000678\n"
     ]
    }
   ],
   "source": [
    "from sklearn.linear_model import LogisticRegression\n",
    "import numpy as np\n",
    "\n",
    "model = LogisticRegression(max_iter=1000)\n",
    "model.fit(X_train, y_train)\n",
    "\n",
    "# Coefficients of the features\n",
    "coefficients = pd.DataFrame(model.coef_.T, index=X.columns, columns=['coefficient'])\n",
    "coefficients['absolute_coefficient'] = np.abs(coefficients['coefficient'])\n",
    "coefficients.sort_values('absolute_coefficient', ascending=False, inplace=True)\n",
    "\n",
    "print(coefficients)"
   ]
  },
  {
   "cell_type": "markdown",
   "id": "1c0992e8",
   "metadata": {},
   "source": [
    "Correlation Analysis"
   ]
  },
  {
   "cell_type": "code",
   "execution_count": 17,
   "id": "11c0492f",
   "metadata": {},
   "outputs": [
    {
     "name": "stdout",
     "output_type": "stream",
     "text": [
      "target      1.000000\n",
      "cp          0.434854\n",
      "thalach     0.422895\n",
      "slope       0.345512\n",
      "restecg     0.134468\n",
      "fbs        -0.041164\n",
      "chol       -0.099966\n",
      "trestbps   -0.138772\n",
      "age        -0.229324\n",
      "sex        -0.279501\n",
      "thal       -0.337838\n",
      "ca         -0.382085\n",
      "exang      -0.438029\n",
      "oldpeak    -0.438441\n",
      "Name: target, dtype: float64\n"
     ]
    }
   ],
   "source": [
    "correlation_matrix = X.join(y).corr()\n",
    "print(correlation_matrix['target'].sort_values(ascending=False))"
   ]
  },
  {
   "cell_type": "markdown",
   "id": "035e5751",
   "metadata": {},
   "source": [
    "Chest pain type, \tMaximum heart rate achieved, Slope of the peak exercise ST segment, Resting electrocardiographic results and ST depression induced by exercise relative to rest are indicators then when high or combined will lead to heart disease or better said heart disese is already present."
   ]
  }
 ],
 "metadata": {
  "kernelspec": {
   "display_name": "base",
   "language": "python",
   "name": "python3"
  },
  "language_info": {
   "codemirror_mode": {
    "name": "ipython",
    "version": 3
   },
   "file_extension": ".py",
   "mimetype": "text/x-python",
   "name": "python",
   "nbconvert_exporter": "python",
   "pygments_lexer": "ipython3",
   "version": "3.12.7"
  }
 },
 "nbformat": 4,
 "nbformat_minor": 5
}
